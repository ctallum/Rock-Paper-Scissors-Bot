{
 "cells": [
  {
   "cell_type": "code",
   "execution_count": 1,
   "metadata": {},
   "outputs": [],
   "source": [
    "from __future__ import print_function, division\n",
    "import os\n",
    "import torch\n",
    "import pandas as pd\n",
    "from skimage import io, transform\n",
    "import numpy as np\n",
    "import matplotlib.pyplot as plt\n",
    "from torch.utils.data import Dataset, DataLoader\n",
    "from torchvision import transforms, utils\n",
    "\n",
    "from handdataset import HandDataset\n",
    "\n",
    "# Ignore warnings\n",
    "import warnings\n",
    "warnings.filterwarnings(\"ignore\")\n",
    "\n",
    "plt.ion()   # interactive mode"
   ]
  },
  {
   "cell_type": "code",
   "execution_count": 2,
   "metadata": {},
   "outputs": [],
   "source": [
    "dataset = HandDataset(csv_file='TrainDataset.csv',root_dir='data/train/',transform=transforms.ToTensor())\n",
    "\n",
    "dataloader = DataLoader(dataset, batch_size=4,\n",
    "                        shuffle=True, num_workers=0)"
   ]
  },
  {
   "cell_type": "code",
   "execution_count": 3,
   "metadata": {},
   "outputs": [
    {
     "name": "stdout",
     "output_type": "stream",
     "text": [
      "0 torch.Size([4, 300, 300]) (1,)\n",
      "1 torch.Size([4, 300, 300]) (1,)\n",
      "2 torch.Size([4, 300, 300]) (1,)\n",
      "3 torch.Size([4, 300, 300]) (1,)\n",
      "4 torch.Size([4, 300, 300]) (1,)\n",
      "5 torch.Size([4, 300, 300]) (1,)\n",
      "6 torch.Size([4, 300, 300]) (1,)\n",
      "7 torch.Size([4, 300, 300]) (1,)\n",
      "8 torch.Size([4, 300, 300]) (1,)\n",
      "9 torch.Size([4, 300, 300]) (1,)\n",
      "10 torch.Size([4, 300, 300]) (1,)\n",
      "11 torch.Size([4, 300, 300]) (1,)\n"
     ]
    },
    {
     "data": {
      "image/png": "[encoded data removed]",
      "text/plain": [
       "<Figure size 432x288 with 12 Axes>"
      ]
     },
     "metadata": {
      "needs_background": "light"
     },
     "output_type": "display_data"
    }
   ],
   "source": [
    "for i in range(12):\n",
    "    sample = dataset[i]\n",
    "\n",
    "    print(i, sample['image'].shape, sample['classification'].shape)\n",
    "\n",
    "    ax = plt.subplot(3, 4, i + 1)\n",
    "    plt.tight_layout()\n",
    "    ax.set_title('Sample #{}'.format(i))\n",
    "    ax.axis('off')"
   ]
  },
  {
   "cell_type": "code",
   "execution_count": null,
   "metadata": {},
   "outputs": [],
   "source": []
  }
 ],
 "metadata": {
  "kernelspec": {
   "display_name": "Python 3.8.3 64-bit ('base': conda)",
   "language": "python",
   "name": "python38364bitbaseconda46404151ed534c53b2887b1744c863ea"
  },
  "language_info": {
   "codemirror_mode": {
    "name": "ipython",
    "version": 3
   },
   "file_extension": ".py",
   "mimetype": "text/x-python",
   "name": "python",
   "nbconvert_exporter": "python",
   "pygments_lexer": "ipython3",
   "version": "3.8.3"
  }
 },
 "nbformat": 4,
 "nbformat_minor": 4
}
